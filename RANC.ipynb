{
  "cells": [
    {
      "cell_type": "code",
      "execution_count": 1,
      "metadata": {
        "colab": {
          "base_uri": "https://localhost:8080/"
        },
        "id": "L8Y9pWN8pIFP",
        "outputId": "48424ed5-d01c-4742-9496-8648b3bf195f"
      },
      "outputs": [
        {
          "output_type": "stream",
          "name": "stdout",
          "text": [
            "Drive already mounted at /content/drive; to attempt to forcibly remount, call drive.mount(\"/content/drive\", force_remount=True).\n"
          ]
        }
      ],
      "source": [
        "from google.colab import drive\n",
        "drive.mount('/content/drive')"
      ]
    },
    {
      "cell_type": "code",
      "execution_count": 2,
      "metadata": {
        "colab": {
          "base_uri": "https://localhost:8080/"
        },
        "id": "ZtguNxFbOU8c",
        "outputId": "0165efef-0c8e-4735-8bc0-1a6c6c777a1c"
      },
      "outputs": [
        {
          "output_type": "stream",
          "name": "stdout",
          "text": [
            "/content/drive/MyDrive/RANC/software\n"
          ]
        }
      ],
      "source": [
        "%cd /content/drive/MyDrive/RANC/software"
      ]
    },
    {
      "cell_type": "code",
      "execution_count": 3,
      "metadata": {
        "colab": {
          "base_uri": "https://localhost:8080/"
        },
        "id": "NM0_VIVyJrL6",
        "outputId": "e14b5cf5-be07-4858-d9ec-667a9153ad58"
      },
      "outputs": [
        {
          "output_type": "stream",
          "name": "stdout",
          "text": [
            "Processing ./tealayers/tealayer2.0\n",
            "  Preparing metadata (setup.py) ... \u001b[?25l\u001b[?25hdone\n",
            "Requirement already satisfied: tensorflow in /usr/local/lib/python3.10/dist-packages (from tealayer2==2.0) (2.15.0)\n",
            "Requirement already satisfied: numpy in /usr/local/lib/python3.10/dist-packages (from tealayer2==2.0) (1.25.2)\n",
            "Requirement already satisfied: Pillow in /usr/local/lib/python3.10/dist-packages (from tealayer2==2.0) (9.4.0)\n",
            "Requirement already satisfied: absl-py>=1.0.0 in /usr/local/lib/python3.10/dist-packages (from tensorflow->tealayer2==2.0) (1.4.0)\n",
            "Requirement already satisfied: astunparse>=1.6.0 in /usr/local/lib/python3.10/dist-packages (from tensorflow->tealayer2==2.0) (1.6.3)\n",
            "Requirement already satisfied: flatbuffers>=23.5.26 in /usr/local/lib/python3.10/dist-packages (from tensorflow->tealayer2==2.0) (24.3.25)\n",
            "Requirement already satisfied: gast!=0.5.0,!=0.5.1,!=0.5.2,>=0.2.1 in /usr/local/lib/python3.10/dist-packages (from tensorflow->tealayer2==2.0) (0.5.4)\n",
            "Requirement already satisfied: google-pasta>=0.1.1 in /usr/local/lib/python3.10/dist-packages (from tensorflow->tealayer2==2.0) (0.2.0)\n",
            "Requirement already satisfied: h5py>=2.9.0 in /usr/local/lib/python3.10/dist-packages (from tensorflow->tealayer2==2.0) (3.9.0)\n",
            "Requirement already satisfied: libclang>=13.0.0 in /usr/local/lib/python3.10/dist-packages (from tensorflow->tealayer2==2.0) (18.1.1)\n",
            "Requirement already satisfied: ml-dtypes~=0.2.0 in /usr/local/lib/python3.10/dist-packages (from tensorflow->tealayer2==2.0) (0.2.0)\n",
            "Requirement already satisfied: opt-einsum>=2.3.2 in /usr/local/lib/python3.10/dist-packages (from tensorflow->tealayer2==2.0) (3.3.0)\n",
            "Requirement already satisfied: packaging in /usr/local/lib/python3.10/dist-packages (from tensorflow->tealayer2==2.0) (24.0)\n",
            "Requirement already satisfied: protobuf!=4.21.0,!=4.21.1,!=4.21.2,!=4.21.3,!=4.21.4,!=4.21.5,<5.0.0dev,>=3.20.3 in /usr/local/lib/python3.10/dist-packages (from tensorflow->tealayer2==2.0) (3.20.3)\n",
            "Requirement already satisfied: setuptools in /usr/local/lib/python3.10/dist-packages (from tensorflow->tealayer2==2.0) (67.7.2)\n",
            "Requirement already satisfied: six>=1.12.0 in /usr/local/lib/python3.10/dist-packages (from tensorflow->tealayer2==2.0) (1.16.0)\n",
            "Requirement already satisfied: termcolor>=1.1.0 in /usr/local/lib/python3.10/dist-packages (from tensorflow->tealayer2==2.0) (2.4.0)\n",
            "Requirement already satisfied: typing-extensions>=3.6.6 in /usr/local/lib/python3.10/dist-packages (from tensorflow->tealayer2==2.0) (4.12.1)\n",
            "Requirement already satisfied: wrapt<1.15,>=1.11.0 in /usr/local/lib/python3.10/dist-packages (from tensorflow->tealayer2==2.0) (1.14.1)\n",
            "Requirement already satisfied: tensorflow-io-gcs-filesystem>=0.23.1 in /usr/local/lib/python3.10/dist-packages (from tensorflow->tealayer2==2.0) (0.37.0)\n",
            "Requirement already satisfied: grpcio<2.0,>=1.24.3 in /usr/local/lib/python3.10/dist-packages (from tensorflow->tealayer2==2.0) (1.64.1)\n",
            "Requirement already satisfied: tensorboard<2.16,>=2.15 in /usr/local/lib/python3.10/dist-packages (from tensorflow->tealayer2==2.0) (2.15.2)\n",
            "Requirement already satisfied: tensorflow-estimator<2.16,>=2.15.0 in /usr/local/lib/python3.10/dist-packages (from tensorflow->tealayer2==2.0) (2.15.0)\n",
            "Requirement already satisfied: keras<2.16,>=2.15.0 in /usr/local/lib/python3.10/dist-packages (from tensorflow->tealayer2==2.0) (2.15.0)\n",
            "Requirement already satisfied: wheel<1.0,>=0.23.0 in /usr/local/lib/python3.10/dist-packages (from astunparse>=1.6.0->tensorflow->tealayer2==2.0) (0.43.0)\n",
            "Requirement already satisfied: google-auth<3,>=1.6.3 in /usr/local/lib/python3.10/dist-packages (from tensorboard<2.16,>=2.15->tensorflow->tealayer2==2.0) (2.27.0)\n",
            "Requirement already satisfied: google-auth-oauthlib<2,>=0.5 in /usr/local/lib/python3.10/dist-packages (from tensorboard<2.16,>=2.15->tensorflow->tealayer2==2.0) (1.2.0)\n",
            "Requirement already satisfied: markdown>=2.6.8 in /usr/local/lib/python3.10/dist-packages (from tensorboard<2.16,>=2.15->tensorflow->tealayer2==2.0) (3.6)\n",
            "Requirement already satisfied: requests<3,>=2.21.0 in /usr/local/lib/python3.10/dist-packages (from tensorboard<2.16,>=2.15->tensorflow->tealayer2==2.0) (2.31.0)\n",
            "Requirement already satisfied: tensorboard-data-server<0.8.0,>=0.7.0 in /usr/local/lib/python3.10/dist-packages (from tensorboard<2.16,>=2.15->tensorflow->tealayer2==2.0) (0.7.2)\n",
            "Requirement already satisfied: werkzeug>=1.0.1 in /usr/local/lib/python3.10/dist-packages (from tensorboard<2.16,>=2.15->tensorflow->tealayer2==2.0) (3.0.3)\n",
            "Requirement already satisfied: cachetools<6.0,>=2.0.0 in /usr/local/lib/python3.10/dist-packages (from google-auth<3,>=1.6.3->tensorboard<2.16,>=2.15->tensorflow->tealayer2==2.0) (5.3.3)\n",
            "Requirement already satisfied: pyasn1-modules>=0.2.1 in /usr/local/lib/python3.10/dist-packages (from google-auth<3,>=1.6.3->tensorboard<2.16,>=2.15->tensorflow->tealayer2==2.0) (0.4.0)\n",
            "Requirement already satisfied: rsa<5,>=3.1.4 in /usr/local/lib/python3.10/dist-packages (from google-auth<3,>=1.6.3->tensorboard<2.16,>=2.15->tensorflow->tealayer2==2.0) (4.9)\n",
            "Requirement already satisfied: requests-oauthlib>=0.7.0 in /usr/local/lib/python3.10/dist-packages (from google-auth-oauthlib<2,>=0.5->tensorboard<2.16,>=2.15->tensorflow->tealayer2==2.0) (1.3.1)\n",
            "Requirement already satisfied: charset-normalizer<4,>=2 in /usr/local/lib/python3.10/dist-packages (from requests<3,>=2.21.0->tensorboard<2.16,>=2.15->tensorflow->tealayer2==2.0) (3.3.2)\n",
            "Requirement already satisfied: idna<4,>=2.5 in /usr/local/lib/python3.10/dist-packages (from requests<3,>=2.21.0->tensorboard<2.16,>=2.15->tensorflow->tealayer2==2.0) (3.7)\n",
            "Requirement already satisfied: urllib3<3,>=1.21.1 in /usr/local/lib/python3.10/dist-packages (from requests<3,>=2.21.0->tensorboard<2.16,>=2.15->tensorflow->tealayer2==2.0) (2.0.7)\n",
            "Requirement already satisfied: certifi>=2017.4.17 in /usr/local/lib/python3.10/dist-packages (from requests<3,>=2.21.0->tensorboard<2.16,>=2.15->tensorflow->tealayer2==2.0) (2024.6.2)\n",
            "Requirement already satisfied: MarkupSafe>=2.1.1 in /usr/local/lib/python3.10/dist-packages (from werkzeug>=1.0.1->tensorboard<2.16,>=2.15->tensorflow->tealayer2==2.0) (2.1.5)\n",
            "Requirement already satisfied: pyasn1<0.7.0,>=0.4.6 in /usr/local/lib/python3.10/dist-packages (from pyasn1-modules>=0.2.1->google-auth<3,>=1.6.3->tensorboard<2.16,>=2.15->tensorflow->tealayer2==2.0) (0.6.0)\n",
            "Requirement already satisfied: oauthlib>=3.0.0 in /usr/local/lib/python3.10/dist-packages (from requests-oauthlib>=0.7.0->google-auth-oauthlib<2,>=0.5->tensorboard<2.16,>=2.15->tensorflow->tealayer2==2.0) (3.2.2)\n",
            "Building wheels for collected packages: tealayer2\n",
            "  Building wheel for tealayer2 (setup.py) ... \u001b[?25l\u001b[?25hdone\n",
            "  Created wheel for tealayer2: filename=tealayer2-2.0-py3-none-any.whl size=9010 sha256=13a09c90e1e8680a3075a6be0fc82a1b9e4fdf0736024d16c276cec033c5bf6a\n",
            "  Stored in directory: /tmp/pip-ephem-wheel-cache-o6g03hba/wheels/8b/52/4c/1dcaed17af4c15154718083a8af454a895a4a4d3528c690b18\n",
            "Successfully built tealayer2\n",
            "Installing collected packages: tealayer2\n",
            "  Attempting uninstall: tealayer2\n",
            "    Found existing installation: tealayer2 2.0\n",
            "    Uninstalling tealayer2-2.0:\n",
            "      Successfully uninstalled tealayer2-2.0\n",
            "Successfully installed tealayer2-2.0\n"
          ]
        }
      ],
      "source": [
        "!pip install ./tealayers/tealayer2.0/\n"
      ]
    },
    {
      "cell_type": "code",
      "execution_count": 4,
      "metadata": {
        "colab": {
          "base_uri": "https://localhost:8080/"
        },
        "id": "cjbgS5Mp0fXW",
        "outputId": "141229e3-09c7-48d8-d0ad-c994564e7435"
      },
      "outputs": [
        {
          "output_type": "stream",
          "name": "stdout",
          "text": [
            "Processing ./rancutils\n",
            "  Preparing metadata (setup.py) ... \u001b[?25l\u001b[?25hdone\n",
            "Requirement already satisfied: numpy in /usr/local/lib/python3.10/dist-packages (from rancutils==0.1) (1.25.2)\n",
            "Requirement already satisfied: bitstring in /usr/local/lib/python3.10/dist-packages (from rancutils==0.1) (4.2.3)\n",
            "Requirement already satisfied: imageio in /usr/local/lib/python3.10/dist-packages (from rancutils==0.1) (2.31.6)\n",
            "Requirement already satisfied: pandas in /usr/local/lib/python3.10/dist-packages (from rancutils==0.1) (2.0.3)\n",
            "Requirement already satisfied: bitarray<3.0.0,>=2.9.0 in /usr/local/lib/python3.10/dist-packages (from bitstring->rancutils==0.1) (2.9.2)\n",
            "Requirement already satisfied: pillow<10.1.0,>=8.3.2 in /usr/local/lib/python3.10/dist-packages (from imageio->rancutils==0.1) (9.4.0)\n",
            "Requirement already satisfied: python-dateutil>=2.8.2 in /usr/local/lib/python3.10/dist-packages (from pandas->rancutils==0.1) (2.8.2)\n",
            "Requirement already satisfied: pytz>=2020.1 in /usr/local/lib/python3.10/dist-packages (from pandas->rancutils==0.1) (2023.4)\n",
            "Requirement already satisfied: tzdata>=2022.1 in /usr/local/lib/python3.10/dist-packages (from pandas->rancutils==0.1) (2024.1)\n",
            "Requirement already satisfied: six>=1.5 in /usr/local/lib/python3.10/dist-packages (from python-dateutil>=2.8.2->pandas->rancutils==0.1) (1.16.0)\n",
            "Building wheels for collected packages: rancutils\n",
            "  Building wheel for rancutils (setup.py) ... \u001b[?25l\u001b[?25hdone\n",
            "  Created wheel for rancutils: filename=rancutils-0.1-py3-none-any.whl size=12918 sha256=7a69ac62e80140b75e8406f178095b387c53c42814ce2af94bf2fbf796c2d972\n",
            "  Stored in directory: /tmp/pip-ephem-wheel-cache-hled94j1/wheels/c1/2c/b7/78cae1a5e6b1ec6c0ce2a87e8df680c25c2a9d80dc258c23f1\n",
            "Successfully built rancutils\n",
            "Installing collected packages: rancutils\n",
            "  Attempting uninstall: rancutils\n",
            "    Found existing installation: rancutils 0.1\n",
            "    Uninstalling rancutils-0.1:\n",
            "      Successfully uninstalled rancutils-0.1\n",
            "Successfully installed rancutils-0.1\n"
          ]
        }
      ],
      "source": [
        "!pip install ./rancutils/"
      ]
    },
    {
      "cell_type": "code",
      "execution_count": 5,
      "metadata": {
        "colab": {
          "base_uri": "https://localhost:8080/"
        },
        "id": "6fmLL7QPC9lk",
        "outputId": "f92e6e09-30e0-4be0-95bd-2518e4f642af"
      },
      "outputs": [
        {
          "output_type": "stream",
          "name": "stderr",
          "text": [
            "WARNING:tensorflow:From /usr/local/lib/python3.10/dist-packages/tensorflow/python/compat/v2_compat.py:108: disable_resource_variables (from tensorflow.python.ops.variable_scope) is deprecated and will be removed in a future version.\n",
            "Instructions for updating:\n",
            "non-resource variables are not supported in the long term\n"
          ]
        }
      ],
      "source": [
        "from tensorflow.keras.optimizers.legacy import Adam\n",
        "from tealayer2 import Tea, AdditivePooling\n",
        "from tensorflow.keras.layers import Flatten, Activation, Input, Lambda, concatenate\n",
        "from tensorflow.keras.datasets import mnist\n",
        "from tensorflow.keras.optimizers.legacy import Adam\n",
        "from keras.callbacks import LearningRateScheduler, EarlyStopping\n",
        "from tensorflow.keras.utils import to_categorical\n",
        "from tensorflow.keras import Model\n",
        "import tensorflow.compat.v1 as tf\n",
        "import numpy as np\n",
        "tf.disable_v2_behavior()"
      ]
    },
    {
      "cell_type": "code",
      "execution_count": 6,
      "metadata": {
        "id": "9GhM3hWBW9aA"
      },
      "outputs": [],
      "source": [
        "num_test_samples = 10000"
      ]
    },
    {
      "cell_type": "code",
      "source": [
        "(X_train, y_train), (X_test, y_test) = mnist.load_data()\n",
        "X_train = X_train.astype('float32')\n",
        "X_test = X_test.astype('float32')\n",
        "X_train /= 255\n",
        "X_test /= 255\n",
        "\n",
        "y_train = to_categorical(y_train, 10)\n",
        "y_test = to_categorical(y_test, 10)\n",
        "\n",
        "# Greyscale images are of shape (28,28,1)\n",
        "inputs = Input(shape=(28,28,1))\n",
        "\n",
        "# Flatten the inputs so that inputs map as: flatten_input[0] -> axon[0], ..., flatten_input[255] -> axon[255]\n",
        "cropped_inputs = Lambda(lambda x: x[:, 1:27, 1:27, :])(inputs)\n",
        "flattened_inputs = Flatten()(cropped_inputs)\n",
        "\n",
        "# Generate each core.\n",
        "# We are taking a 16x16 square of the input image and striding it by 12. this gives us 4 cores with 0 padding encumpassing the entire image.\n",
        "# Trải phẳng các ảnh input 28x28x1 thành 1 vector 784x1, quét từng đoạt 256 để đưa vào lần lượt các core, mỗi đoạn sau stride 12 phần tử so với đoạn trước\n",
        "# (Trong chương 02 ở file doc là quét 4 góc bức ảnh, nó cũng tương tự như thế này)\n",
        "core0 = Lambda(lambda x : x[:, :256])(flattened_inputs)\n",
        "core1 = Lambda(lambda x : x[:, 140:396])(flattened_inputs)\n",
        "core2 = Lambda(lambda x : x[:, 280:536])(flattened_inputs)\n",
        "core3 = Lambda(lambda x : x[:, 420:])(flattened_inputs)\n",
        "\n",
        "# Use the image distributions as corresponding inputs into our Tea Layer.\n",
        "# units là số neuron được sử dụng cho tea layer này, ở đây khai báo 4 tea layer với units = 64 (tương ứng 4 core với mỗi core sử dụng 64 neuron)\n",
        "core0 = Tea(units=128, name='tea_1_1')(core0)\n",
        "core1 = Tea(units=128, name='tea_1_2')(core1)\n",
        "core2 = Tea(units=128, name='tea_1_3')(core2)\n",
        "core3 = Tea(units=128, name='tea_1_4')(core3)\n",
        "\n",
        "\n",
        "# The classification is the concatenation of these 4 core's outputs.\n",
        "# We'll call the classification core our 'network'\n",
        "layer1 = concatenate([core0, core1, core2, core3])\n",
        "\n",
        "network0 =  Lambda(lambda x : x[:, :256])(layer1)\n",
        "network1 =  Lambda(lambda x : x[:, 256:])(layer1)\n",
        "\n",
        "\n",
        "network0 = Tea(units=128, name='tea_2_1')(network0)\n",
        "network1 = Tea(units=128, name='tea_2_2')(network1)\n",
        "layer2 = concatenate([network0, network1])\n",
        "\n",
        "# Gộp đầu ra của 4 core trên lại thành 1 layer khác (tổng sẽ là 256 đầu vào cho tea layer này), tuy nhiên\n",
        "# do chỉ có 10 class (các số từ 0 đến 9, mỗi số 1 class) => layer này chỉ sử dụng 250 neuron (do 256 không\n",
        "# chia hết cho 10), trong đó cứ 25 neuron thì sẽ vote cho 1 class, số lượng neuron vote cho class nào lớn\n",
        "# nhất thì ảnh sẽ thuộc về class đó. Ví dụ trong 250 đầu ra, từ 0 đến 24 có 17 spike bắn ra, đồng thời\n",
        "# không có cụm nào bắn ra được nhiều bằng hoặc hơn 17 => Ảnh thuộc về class số \"0\"\n",
        "layer3 = Tea(units=250, name='tea_3')(layer2)\n",
        "\n",
        "network = AdditivePooling(10)(layer3)\n",
        "\n",
        "predictions = Activation('softmax')(network)\n",
        "\n",
        "model = Model(inputs=inputs, outputs=predictions)\n",
        "\n",
        "# Define a learning rate schedule\n",
        "def lr_schedule(epoch):\n",
        "    if epoch <= 8:\n",
        "        return 0.003\n",
        "    if epoch <= 15:\n",
        "        return 0.002\n",
        "    else:\n",
        "        return 0.001\n",
        "# Define the EarlyStopping callback\n",
        "early_stopping = EarlyStopping(monitor='val_loss', min_delta =0, patience=30, verbose=1, restore_best_weights=True)\n",
        "\n",
        "model.compile(loss='categorical_crossentropy', optimizer=Adam(learning_rate=0.001), metrics=['accuracy'])\n",
        "\n",
        "X_train = X_train.reshape(-1, 28, 28, 1)\n",
        "X_test = X_test.reshape(-1, 28, 28, 1)\n",
        "\n",
        "model.fit(X_train, y_train, batch_size=128, epochs=100, verbose=1, validation_split=0.2, callbacks=[LearningRateScheduler(lr_schedule), early_stopping])\n",
        "\n",
        "# model.fit(X_train, y_train, batch_size=128, epochs=15,verbose=1, validation_split=0.2)\n",
        "\n",
        "score = model.evaluate(X_test, y_test, verbose=0)\n",
        "\n",
        "print(\"Test Loss: \", score[0])\n",
        "print(\"Test Accuracy: \", score[1])"
      ],
      "metadata": {
        "id": "dmfoZBUdP0TK",
        "colab": {
          "base_uri": "https://localhost:8080/"
        },
        "outputId": "225bc379-2795-436d-ca0e-7bde71b2a352"
      },
      "execution_count": 9,
      "outputs": [
        {
          "output_type": "stream",
          "name": "stdout",
          "text": [
            "Train on 48000 samples, validate on 12000 samples\n",
            "Epoch 1/100\n",
            "47872/48000 [============================>.] - ETA: 0s - loss: 1.2315 - acc: 0.4904"
          ]
        },
        {
          "output_type": "stream",
          "name": "stderr",
          "text": [
            "/usr/local/lib/python3.10/dist-packages/keras/src/engine/training_v1.py:2335: UserWarning: `Model.state_updates` will be removed in a future version. This property should not be used in TensorFlow 2.0, as `updates` are applied automatically.\n",
            "  updates = self.state_updates\n"
          ]
        },
        {
          "output_type": "stream",
          "name": "stdout",
          "text": [
            "\b\b\b\b\b\b\b\b\b\b\b\b\b\b\b\b\b\b\b\b\b\b\b\b\b\b\b\b\b\b\b\b\b\b\b\b\b\b\b\b\b\b\b\b\b\b\b\b\b\b\b\b\b\b\b\b\b\b\b\b\b\b\b\b\b\b\b\b\b\b\b\b\b\b\b\b\b\b\b\b\b\b\b\r48000/48000 [==============================] - 12s 260us/sample - loss: 1.2295 - acc: 0.4914 - val_loss: 0.3720 - val_acc: 0.8932 - lr: 0.0030\n",
            "Epoch 2/100\n",
            "48000/48000 [==============================] - 8s 161us/sample - loss: 0.2720 - acc: 0.9233 - val_loss: 0.2411 - val_acc: 0.9286 - lr: 0.0030\n",
            "Epoch 3/100\n",
            "48000/48000 [==============================] - 6s 121us/sample - loss: 0.2111 - acc: 0.9390 - val_loss: 0.2187 - val_acc: 0.9357 - lr: 0.0030\n",
            "Epoch 4/100\n",
            "48000/48000 [==============================] - 5s 101us/sample - loss: 0.1815 - acc: 0.9498 - val_loss: 0.2007 - val_acc: 0.9469 - lr: 0.0030\n",
            "Epoch 5/100\n",
            "48000/48000 [==============================] - 7s 155us/sample - loss: 0.1603 - acc: 0.9562 - val_loss: 0.1968 - val_acc: 0.9473 - lr: 0.0030\n",
            "Epoch 6/100\n",
            "48000/48000 [==============================] - 5s 101us/sample - loss: 0.1467 - acc: 0.9592 - val_loss: 0.1810 - val_acc: 0.9522 - lr: 0.0030\n",
            "Epoch 7/100\n",
            "48000/48000 [==============================] - 5s 111us/sample - loss: 0.1374 - acc: 0.9621 - val_loss: 0.1820 - val_acc: 0.9482 - lr: 0.0030\n",
            "Epoch 8/100\n",
            "48000/48000 [==============================] - 7s 144us/sample - loss: 0.1248 - acc: 0.9644 - val_loss: 0.1777 - val_acc: 0.9513 - lr: 0.0030\n",
            "Epoch 9/100\n",
            "48000/48000 [==============================] - 5s 102us/sample - loss: 0.1228 - acc: 0.9656 - val_loss: 0.1682 - val_acc: 0.9552 - lr: 0.0030\n",
            "Epoch 10/100\n",
            "48000/48000 [==============================] - 7s 143us/sample - loss: 0.0924 - acc: 0.9737 - val_loss: 0.1616 - val_acc: 0.9553 - lr: 0.0020\n",
            "Epoch 11/100\n",
            "48000/48000 [==============================] - 5s 113us/sample - loss: 0.0878 - acc: 0.9748 - val_loss: 0.1625 - val_acc: 0.9549 - lr: 0.0020\n",
            "Epoch 12/100\n",
            "48000/48000 [==============================] - 5s 102us/sample - loss: 0.0818 - acc: 0.9770 - val_loss: 0.1766 - val_acc: 0.9547 - lr: 0.0020\n",
            "Epoch 13/100\n",
            "48000/48000 [==============================] - 8s 158us/sample - loss: 0.0843 - acc: 0.9762 - val_loss: 0.1962 - val_acc: 0.9487 - lr: 0.0020\n",
            "Epoch 14/100\n",
            "48000/48000 [==============================] - 5s 103us/sample - loss: 0.0821 - acc: 0.9763 - val_loss: 0.1524 - val_acc: 0.9589 - lr: 0.0020\n",
            "Epoch 15/100\n",
            "48000/48000 [==============================] - 6s 130us/sample - loss: 0.0748 - acc: 0.9789 - val_loss: 0.1647 - val_acc: 0.9565 - lr: 0.0020\n",
            "Epoch 16/100\n",
            "48000/48000 [==============================] - 6s 133us/sample - loss: 0.0719 - acc: 0.9799 - val_loss: 0.1573 - val_acc: 0.9599 - lr: 0.0020\n",
            "Epoch 17/100\n",
            "48000/48000 [==============================] - 5s 100us/sample - loss: 0.0545 - acc: 0.9849 - val_loss: 0.1612 - val_acc: 0.9587 - lr: 0.0010\n",
            "Epoch 18/100\n",
            "48000/48000 [==============================] - 7s 155us/sample - loss: 0.0502 - acc: 0.9861 - val_loss: 0.1452 - val_acc: 0.9629 - lr: 0.0010\n",
            "Epoch 19/100\n",
            "48000/48000 [==============================] - 5s 103us/sample - loss: 0.0448 - acc: 0.9871 - val_loss: 0.1429 - val_acc: 0.9648 - lr: 0.0010\n",
            "Epoch 20/100\n",
            "48000/48000 [==============================] - 5s 110us/sample - loss: 0.0441 - acc: 0.9870 - val_loss: 0.1636 - val_acc: 0.9588 - lr: 0.0010\n",
            "Epoch 21/100\n",
            "48000/48000 [==============================] - 7s 151us/sample - loss: 0.0442 - acc: 0.9870 - val_loss: 0.1603 - val_acc: 0.9592 - lr: 0.0010\n",
            "Epoch 22/100\n",
            "48000/48000 [==============================] - 5s 101us/sample - loss: 0.0435 - acc: 0.9873 - val_loss: 0.1492 - val_acc: 0.9626 - lr: 0.0010\n",
            "Epoch 23/100\n",
            "48000/48000 [==============================] - 7s 143us/sample - loss: 0.0418 - acc: 0.9880 - val_loss: 0.1534 - val_acc: 0.9593 - lr: 0.0010\n",
            "Epoch 24/100\n",
            "48000/48000 [==============================] - 6s 117us/sample - loss: 0.0404 - acc: 0.9887 - val_loss: 0.1524 - val_acc: 0.9626 - lr: 0.0010\n",
            "Epoch 25/100\n",
            "48000/48000 [==============================] - 5s 104us/sample - loss: 0.0391 - acc: 0.9884 - val_loss: 0.1481 - val_acc: 0.9628 - lr: 0.0010\n",
            "Epoch 26/100\n",
            "48000/48000 [==============================] - 8s 157us/sample - loss: 0.0366 - acc: 0.9892 - val_loss: 0.1587 - val_acc: 0.9617 - lr: 0.0010\n",
            "Epoch 27/100\n",
            "48000/48000 [==============================] - 5s 102us/sample - loss: 0.0390 - acc: 0.9882 - val_loss: 0.1594 - val_acc: 0.9616 - lr: 0.0010\n",
            "Epoch 28/100\n",
            "48000/48000 [==============================] - 6s 122us/sample - loss: 0.0361 - acc: 0.9898 - val_loss: 0.1618 - val_acc: 0.9613 - lr: 0.0010\n",
            "Epoch 29/100\n",
            "48000/48000 [==============================] - 6s 135us/sample - loss: 0.0382 - acc: 0.9886 - val_loss: 0.1614 - val_acc: 0.9626 - lr: 0.0010\n",
            "Epoch 30/100\n",
            "48000/48000 [==============================] - 8s 170us/sample - loss: 0.0349 - acc: 0.9896 - val_loss: 0.1584 - val_acc: 0.9616 - lr: 0.0010\n",
            "Epoch 31/100\n",
            "48000/48000 [==============================] - 7s 143us/sample - loss: 0.0348 - acc: 0.9894 - val_loss: 0.1452 - val_acc: 0.9622 - lr: 0.0010\n",
            "Epoch 32/100\n",
            "48000/48000 [==============================] - 5s 102us/sample - loss: 0.0348 - acc: 0.9889 - val_loss: 0.1603 - val_acc: 0.9628 - lr: 0.0010\n",
            "Epoch 33/100\n",
            "48000/48000 [==============================] - 7s 150us/sample - loss: 0.0328 - acc: 0.9903 - val_loss: 0.1672 - val_acc: 0.9591 - lr: 0.0010\n",
            "Epoch 34/100\n",
            "48000/48000 [==============================] - 5s 106us/sample - loss: 0.0372 - acc: 0.9886 - val_loss: 0.1550 - val_acc: 0.9620 - lr: 0.0010\n",
            "Epoch 35/100\n",
            "48000/48000 [==============================] - 5s 103us/sample - loss: 0.0371 - acc: 0.9892 - val_loss: 0.1496 - val_acc: 0.9625 - lr: 0.0010\n",
            "Epoch 36/100\n",
            "48000/48000 [==============================] - 8s 156us/sample - loss: 0.0307 - acc: 0.9907 - val_loss: 0.1484 - val_acc: 0.9647 - lr: 0.0010\n",
            "Epoch 37/100\n",
            "48000/48000 [==============================] - 5s 104us/sample - loss: 0.0329 - acc: 0.9895 - val_loss: 0.1612 - val_acc: 0.9607 - lr: 0.0010\n",
            "Epoch 38/100\n",
            "48000/48000 [==============================] - 6s 133us/sample - loss: 0.0344 - acc: 0.9895 - val_loss: 0.1779 - val_acc: 0.9563 - lr: 0.0010\n",
            "Epoch 39/100\n",
            "48000/48000 [==============================] - 6s 130us/sample - loss: 0.0315 - acc: 0.9901 - val_loss: 0.1700 - val_acc: 0.9622 - lr: 0.0010\n",
            "Epoch 40/100\n",
            "48000/48000 [==============================] - 5s 109us/sample - loss: 0.0289 - acc: 0.9908 - val_loss: 0.1581 - val_acc: 0.9609 - lr: 0.0010\n",
            "Epoch 41/100\n",
            "48000/48000 [==============================] - 9s 185us/sample - loss: 0.0308 - acc: 0.9903 - val_loss: 0.1461 - val_acc: 0.9632 - lr: 0.0010\n",
            "Epoch 42/100\n",
            "48000/48000 [==============================] - 5s 101us/sample - loss: 0.0275 - acc: 0.9911 - val_loss: 0.1460 - val_acc: 0.9643 - lr: 0.0010\n",
            "Epoch 43/100\n",
            "48000/48000 [==============================] - 6s 129us/sample - loss: 0.0276 - acc: 0.9907 - val_loss: 0.1469 - val_acc: 0.9631 - lr: 0.0010\n",
            "Epoch 44/100\n",
            "48000/48000 [==============================] - 6s 124us/sample - loss: 0.0281 - acc: 0.9909 - val_loss: 0.1780 - val_acc: 0.9553 - lr: 0.0010\n",
            "Epoch 45/100\n",
            "48000/48000 [==============================] - 5s 102us/sample - loss: 0.0289 - acc: 0.9904 - val_loss: 0.1570 - val_acc: 0.9638 - lr: 0.0010\n",
            "Epoch 46/100\n",
            "48000/48000 [==============================] - 7s 156us/sample - loss: 0.0288 - acc: 0.9907 - val_loss: 0.1639 - val_acc: 0.9607 - lr: 0.0010\n",
            "Epoch 47/100\n",
            "48000/48000 [==============================] - 5s 101us/sample - loss: 0.0263 - acc: 0.9915 - val_loss: 0.1587 - val_acc: 0.9638 - lr: 0.0010\n",
            "Epoch 48/100\n",
            "48000/48000 [==============================] - 5s 106us/sample - loss: 0.0255 - acc: 0.9924 - val_loss: 0.1489 - val_acc: 0.9655 - lr: 0.0010\n",
            "Epoch 49/100\n",
            "48000/48000 [==============================] - ETA: 0s - loss: 0.0246 - acc: 0.9920Restoring model weights from the end of the best epoch: 19.\n",
            "48000/48000 [==============================] - 7s 155us/sample - loss: 0.0246 - acc: 0.9920 - val_loss: 0.1594 - val_acc: 0.9619 - lr: 0.0010\n",
            "Epoch 49: early stopping\n",
            "Test Loss:  0.13576534453965725\n",
            "Test Accuracy:  0.9659\n"
          ]
        }
      ]
    },
    {
      "cell_type": "code",
      "execution_count": 11,
      "metadata": {
        "id": "wz_10mPNYNbh",
        "colab": {
          "base_uri": "https://localhost:8080/"
        },
        "outputId": "09ae0659-2e0f-4b85-fbbf-d9ab8ec243fc"
      },
      "outputs": [
        {
          "output_type": "stream",
          "name": "stderr",
          "text": [
            "/usr/local/lib/python3.10/dist-packages/keras/src/engine/training_v1.py:2359: UserWarning: `Model.state_updates` will be removed in a future version. This property should not be used in TensorFlow 2.0, as `updates` are applied automatically.\n",
            "  updates=self.state_updates,\n"
          ]
        }
      ],
      "source": [
        "# Optionally, then save the generated network out for use in the simulator and/or hardware\n",
        "from rancutils.teaconversion import create_cores, create_packets, Packet\n",
        "from rancutils.output_bus import OutputBus\n",
        "from rancutils.serialization import save as sim_save\n",
        "\n",
        "x_test_flat = X_test.reshape((10000, 784))\n",
        "x_test_cropped = X_test[:, 1:27, 1:27, :].reshape((num_test_samples, 676))\n",
        "partitioned_packets = []\n",
        "\n",
        "# Use absolute/hard reset by specifying neuron_reset_type=0\n",
        "cores_sim = create_cores(model, 3, neuron_reset_type=0)\n",
        "# Partition the packets into groups as they will be fed into each of the input cores\n",
        "partitioned_packets.append(x_test_cropped[:num_test_samples, :256])\n",
        "partitioned_packets.append(x_test_cropped[:num_test_samples, 140:396])\n",
        "partitioned_packets.append(x_test_cropped[:num_test_samples, 280:536])\n",
        "partitioned_packets.append(x_test_cropped[:num_test_samples, 420:])\n",
        "packets_sim = create_packets(partitioned_packets)\n",
        "output_bus_sim = OutputBus((0, 3), num_outputs=250)\n",
        "\n",
        "# This file can then be used as an input json to the RANC Simulator through the \"input file\" argument.\n",
        "sim_save(\"mnist_config.json\", cores_sim, packets_sim, output_bus_sim, indent=2)\n",
        "# Additionally, output the tensorflow predictions and correct labels for later cross validation\n",
        "predict = model.predict(X_test[:num_test_samples,:])\n",
        "idx=[]\n",
        "for i in predict:\n",
        "  idx.append(np.argmax(i))\n",
        "test_predictions = to_categorical(idx)\n",
        "np.save(\"mnist_tf_preds.txt\", test_predictions)\n",
        "np.save(\"mnist_correct_preds.txt\", y_test)\n",
        "\n",
        "#print(partitioned_packets)"
      ]
    },
    {
      "cell_type": "markdown",
      "metadata": {
        "id": "nCtg7WzajcEw"
      },
      "source": [
        "Sửa file neuron trong rancutils"
      ]
    },
    {
      "cell_type": "code",
      "execution_count": 12,
      "metadata": {
        "id": "FP433Amj-kMt"
      },
      "outputs": [],
      "source": [
        "from rancutils.serialization import load\n",
        "from rancutils.emulation import output_for_streaming,output_for_testbench"
      ]
    },
    {
      "cell_type": "code",
      "execution_count": 13,
      "metadata": {
        "id": "tH8cTHzPgpUv"
      },
      "outputs": [],
      "source": [
        "packets,cores=load(\"mnist_config.json\")"
      ]
    },
    {
      "cell_type": "code",
      "execution_count": 14,
      "metadata": {
        "id": "Dhjti3Begwzu"
      },
      "outputs": [],
      "source": [
        "output_for_streaming(cores,packets,max_xy=(4,3))"
      ]
    },
    {
      "cell_type": "code",
      "execution_count": 15,
      "metadata": {
        "id": "Ap33jAPBgulE"
      },
      "outputs": [],
      "source": [
        "correct_outputs=np.load(\"mnist_correct_preds.txt.npy\")\n",
        "output_for_testbench(packets,correct_outputs)"
      ]
    }
  ],
  "metadata": {
    "colab": {
      "provenance": []
    },
    "kernelspec": {
      "display_name": "Python 3",
      "name": "python3"
    },
    "language_info": {
      "name": "python"
    }
  },
  "nbformat": 4,
  "nbformat_minor": 0
}